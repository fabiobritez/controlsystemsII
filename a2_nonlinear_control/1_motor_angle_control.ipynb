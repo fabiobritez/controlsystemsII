{
 "cells": [
  {
   "cell_type": "markdown",
   "metadata": {},
   "source": [
    "## Caso de estudio 1: Control del ángulo del motor en variables de estado\n",
    "\n",
    "Dadas las ecuaciones del motor de corriente continua con las mediciones experimentales detalladas en la Fig. 1, se sabe que las ecuaciones son:\n",
    "\n",
    "1. $$ \\frac{di_a}{dt} = -\\frac{R_A}{L_{AA}}i_a - \\frac{K_m}{L_{AA}}\\omega_r + \\frac{1}{L_{AA}}v_a $$\n",
    "2. $$ \\frac{d\\omega_r}{dt} = \\frac{K_i}{J}i_a - \\frac{B_m}{J}\\omega_r - \\frac{1}{J}T_L $$\n",
    "3. $$ \\frac{d\\theta_t}{dt} = \\omega_r $$\n",
    "\n",
    "---\n",
    "\n",
    "**Ítem [1]**  \n",
    "Empleando los parámetros hallados en el Trabajo Práctico Nº1 para el Motor CC, implementar un sistema en variables de estado que controle el ángulo del motor, para consignas de π/2 y –π/2 cambiando cada 5 segundos y que el $ T_L $ es el descripto en la planilla de datos, comparando el desempeño con el obtenido con el PID digital del TP Nº1. Hallar el valor de integración Euler adecuado.\n",
    "\n",
    "**Objetivo:** acelerar la dinámica del controlador verificando el resultado con las curvas del archivo `.xls` adjunto.\n",
    "\n",
    "- **a.** Evitando que la tensión supere los 5 Volts en valor absoluto, especificar el tiempo de muestreo necesario para que el controlador cumpla el objetivo.  \n",
    "- **b.** Asumiendo que no puede medirse directamente la corriente, **pero sí la velocidad y el ángulo**, proponer un controlador que logre el objetivo.  \n",
    "- **c.** Determinar el efecto de la no linealidad en la acción de control, descripta en la Fig. 2, y verificar cuál es el máximo valor admisible de esa no linealidad.\n",
    "\n",
    "![Caso 1 - imagen](extras/case1.png)\n"
   ]
  },
  {
   "cell_type": "code",
   "execution_count": 4,
   "metadata": {},
   "outputs": [],
   "source": [
    "# !pip install numpy pandas matplotlib scipy\n",
    "\n",
    "import numpy as np\n",
    "import pandas as pd\n",
    "import matplotlib.pyplot as plt\n",
    "from scipy.signal import place_poles"
   ]
  },
  {
   "cell_type": "markdown",
   "metadata": {},
   "source": [
    " ### 1. Modelo del Motor CC\n",
    " La representación en espacio de estados es:\n",
    " $$\n",
    " \\dot{x} = A x + B u, \\quad y = C x\n",
    " $$\n",
    " donde:\n",
    " $$\n",
    " x = \\begin{bmatrix} i_a \\\\ \\omega_r \\\\ \\theta_r \\end{bmatrix}, \\quad\n",
    " u = \\begin{bmatrix} v_a \\\\ T_L \\end{bmatrix}, \\quad\n",
    " y = \\theta_r\n",
    " $$\n",
    " $$\n",
    " A = \\begin{bmatrix}\n",
    " -\\frac{R_A}{L_{AA}} & -\\frac{K_m}{L_{AA}} & 0 \\\\\n",
    " \\frac{K_i}{J} & -\\frac{B_m}{J} & 0 \\\\\n",
    " 0 & 1 & 0\n",
    " \\end{bmatrix}, \\quad\n",
    " B = \\begin{bmatrix}\n",
    " \\frac{1}{L_{AA}} & 0 \\\\\n",
    " 0 & -\\frac{1}{J} \\\\\n",
    " 0 & 0\n",
    " \\end{bmatrix}, \\quad\n",
    " C = \\begin{bmatrix} 0 & 0 & 1 \\end{bmatrix}\n",
    " $$"
   ]
  },
  {
   "cell_type": "code",
   "execution_count": 66,
   "metadata": {},
   "outputs": [
    {
     "name": "stdout",
     "output_type": "stream",
     "text": [
      "Autovalores del sistema: [   0.          -10.84191401 -428.84223831]\n",
      "Tiempo de integración: 0.00012 s\n"
     ]
    }
   ],
   "source": [
    "# ------------------- Parámetros del Sistema -------------------\n",
    "# Parámetros del motor (identificados experimentalmente)\n",
    "Ra = 2.2781228953606902\n",
    "Laa = 0.005187184919244553\n",
    "Ki = 0.2618711775870197\n",
    "Jm = 0.002848787974411428\n",
    "Bm = 0.0014279727330389095\n",
    "Km = 0.2499435593696499\n",
    "\n",
    "\n",
    "# Parámetros del motor [originales]\n",
    "# Ra = 2.27        # Resistencia de armadura [Ohm]\n",
    "# Laa = 0.0047     # Inductancia de armadura [H]\n",
    "# Ki = 0.25        # Constante de torque [N⋅m/A]\n",
    "# Km = 0.25        # Constante de fuerza contraelectromotriz [V⋅s/rad]\n",
    "# Bm = 0.00131     # Coeficiente de fricción viscosa [N⋅m⋅s/rad]\n",
    "# Jm = 0.00233     # Momento de inercia [kg⋅m²]\n",
    "\n",
    "# Ra=2.27;Laa=0.0047;Ki=0.25;Km=0.25;Bm=0.00131;Jm=0.00233; \n",
    "\n",
    "# Matrices del sistema en espacio de estados\n",
    "A = np.array([\n",
    "    [-Ra/Laa,   -Km/Laa,  0],\n",
    "    [Ki/Jm,     -Bm/Jm,   0],\n",
    "    [0,         1,        0]\n",
    "])\n",
    "B_va = np.array([[1/Laa], [0], [0]])\n",
    "B_torque = np.array([[0], [-1/Jm], [0]])\n",
    "B = np.hstack((B_va, B_torque))\n",
    "C = np.array([[0, 0, 1]])\n",
    "\n",
    "\n",
    "\n",
    "# autovalores del sistema\n",
    "autovalores = np.linalg.eigvals(A)\n",
    "print(f\"Autovalores del sistema: {autovalores}\") \n",
    "\n",
    "# tiempo de integracion\n",
    "t_int = np.log(0.95) / np.min(np.real(autovalores))\n",
    "# redondear a 4 decimales\n",
    "t_int = round(t_int, 5)\n",
    "print(f\"Tiempo de integración: {t_int} s\")\n",
    " "
   ]
  },
  {
   "cell_type": "markdown",
   "metadata": {},
   "source": [
    "Vamos a definir una funcion auxiliar, para realizar las simulaciones del sistema (más rapidamente que el controlador)\n",
    "\n",
    "Simular con subpasos dentro de `sim_motor` permite capturar las dinámicas rápidas del sistema sin hacer más lenta toda la simulación (con controlador y observador). Mejoramos la precisión numérica y la estabilidad, manteniendo el controlador a un ritmo de muestreo más alto.  \n"
   ]
  },
  {
   "cell_type": "code",
   "execution_count": 69,
   "metadata": {},
   "outputs": [],
   "source": [
    "def sim_motor(dt, x0, u, pasos_min=10):\n",
    "    \"\"\"\n",
    "    Simula el sistema dx/dt = A x + B u durante dt,\n",
    "    usando subpasos internos calculados en base a la dinámica más rápida del sistema.\n",
    "\n",
    "    Parámetros:\n",
    "    - dt_externo: paso externo de integración [s]\n",
    "    - x0: estado actual (3x1)\n",
    "    - u: entrada actual (2x1)\n",
    "    Retorna:\n",
    "    - x_f: estado al final de dt\n",
    "    \"\"\"\n",
    "    h = t_int # calculado en base a la dinámica más rápida del sistema\n",
    "    x = x0.copy()\n",
    "\n",
    "    n_subpasos = int(np.ceil(dt / h))\n",
    "\n",
    "    # Integrar con subpasos (Euler)\n",
    "    for _ in range(n_subpasos):\n",
    "        dx = A @ x + B @ u\n",
    "        x += h * dx\n",
    "\n",
    "    return x\n"
   ]
  },
  {
   "cell_type": "markdown",
   "metadata": {},
   "source": [
    "## Integrador para la realimentación de estados\n",
    "Para esto, antes agregamos el integrador (para que el error converja a cero)\n",
    "\n",
    "\n",
    "\n",
    "El sistema ampliado se convierte en:\n",
    "\n",
    "$$\n",
    "\\begin{bmatrix}\n",
    "\\dot{x}(t) \\\\\n",
    "\\dot{\\xi}(t)\n",
    "\\end{bmatrix}\n",
    "=\n",
    "\\begin{bmatrix}\n",
    "A & 0 \\\\\n",
    "-C & 0\n",
    "\\end{bmatrix}\n",
    "\\begin{bmatrix}\n",
    "x(t) \\\\\n",
    "\\xi(t)\n",
    "\\end{bmatrix}\n",
    "+\n",
    "\\begin{bmatrix}\n",
    "B \\\\\n",
    "0\n",
    "\\end{bmatrix}\n",
    "u(t)\n",
    "\n",
    "$$\n",
    "\n",
    "\n",
    "Donde:\n",
    "\n",
    "$$\n",
    "\n",
    "A_a = \\begin{bmatrix} A & 0 \\\\ -C & 0 \\end{bmatrix}, \\quad\n",
    "\n",
    "x_a = \\begin{bmatrix} x \\\\ \\xi \\end{bmatrix}\n",
    "\n",
    "B_a = \\begin{bmatrix} B \\\\ 0 \\end{bmatrix}, \\quad\n",
    "\n",
    "E_a = \\begin{bmatrix} 0 \\\\ 1 \\end{bmatrix}, \\quad\n",
    "$$\n"
   ]
  },
  {
   "cell_type": "code",
   "execution_count": 70,
   "metadata": {},
   "outputs": [],
   "source": [
    "# Primero agregamos el integrador y hacemos la matriz aumentada\n",
    "A_aug = np.vstack((np.hstack((A, np.zeros((3,1)))), \n",
    "                   np.hstack((-C[0,:], 0)) ))\n",
    "\n",
    "B_aug = np.vstack((B_va, 0))\n",
    "C_aug = np.hstack((C, np.array([[0]])))"
   ]
  },
  {
   "cell_type": "markdown",
   "metadata": {},
   "source": [
    "# Construiremos el observador de Luenberger\n",
    "\n",
    "Tenemos 2 caminos para diseñar el observador:\n",
    "\n",
    "1. Transformamos la matriz en la forma canonica observable, luego despejar para calcular la ganancia Ko (L)\n",
    "2. Aprovechar el concepto de dualidad para hallar Ko(L)\n",
    "\n",
    "En este caso iremos por la segunda opción. Ya que nos permite transformar el problema de diseño del observador en un problema de control dual.\n",
    "\n",
    "Para el sistema original:\n",
    "$$\n",
    "\\begin{align}\n",
    "\\dot{x} &= Ax + Bu \\\\\n",
    "y &= Cx\n",
    "\\end{align}\n",
    "$$\n",
    "\n",
    "El sistema dual es:\n",
    "$$\n",
    "\\begin{align}\n",
    "\\dot{x} &= A^T x + C^T u \\\\\n",
    "y &= B^T x\n",
    "\\end{align}\n",
    "$$\n",
    "\n",
    "Donde:\n",
    " - $A_{dual} = A^T$ (transpuesta de $A$)\n",
    " - $B_{dual} = C^T$ (transpuesta de $C$)\n",
    " - $C_{dual} = B^T$ (transpuesta de $B$)\n",
    "\n",
    "Si el sistema original es observable, el sistema dual es controlable, y viceversa.\n",
    "Esto nos permite usar las técnicas de control (como ubicación de polos) para encontrar la ganancia del observador L (Ko)\n",
    "\n",
    "La ganancia del observador L será la transpuesta de la ganancia K del controlador del sistema dual:\n",
    "$L = K^T$\n"
   ]
  },
  {
   "cell_type": "code",
   "execution_count": 71,
   "metadata": {},
   "outputs": [
    {
     "name": "stdout",
     "output_type": "stream",
     "text": [
      "El sistema es observable\n",
      "Dimensiones:\n",
      "A_dual: (3, 3)\n",
      "B_dual: (3, 1)\n",
      "C_dual: (1, 3)\n",
      "\n",
      "A_dual\n",
      ": [[-439.18289608   91.92371631    0.        ]\n",
      " [ -48.18481763   -0.50125623    1.        ]\n",
      " [   0.            0.            0.        ]]\n"
     ]
    }
   ],
   "source": [
    "# Verificamos que el sistema original sea observable\n",
    "O = np.hstack((B, A@B, (A)**2 @B))\n",
    "rank_O = np.linalg.matrix_rank(O)\n",
    "\n",
    "# Si el rango es igual a la dimensión del sistema, el sistema es observable\n",
    "if rank_O == A.shape[0]:\n",
    "    print(\"El sistema es observable\")\n",
    "else:\n",
    "    print(\"El sistema no es observable\")\n",
    "\n",
    "\n",
    "\n",
    "# Sistema dual\n",
    "A_dual = A.T\n",
    "B_dual = C.T\n",
    "C_dual = B_va.T\n",
    "\n",
    "# Chequeo de dimensiones (no es necesario, lo dejo para debugging)\n",
    "print(\"Dimensiones:\")\n",
    "print(f\"A_dual: {A_dual.shape}\")\n",
    "print(f\"B_dual: {B_dual.shape}\")\n",
    "print(f\"C_dual: {C_dual.shape}\")\n",
    " \n",
    "print(f\"\\nA_dual\\n: {A_dual}\")\n"
   ]
  },
  {
   "cell_type": "markdown",
   "metadata": {},
   "source": [
    "Elegimos los polos del observador de manera que el sistema sea estable y que el error converja a cero en el tiempo deseado. Evitamos que el observador sea demasiado rapido, para que no se vuelva inestable.\n"
   ]
  },
  {
   "cell_type": "code",
   "execution_count": 72,
   "metadata": {},
   "outputs": [
    {
     "name": "stdout",
     "output_type": "stream",
     "text": [
      "428.84223830964004\n",
      "En teoría, los polos del observador deberían ser mayores a  4288.4223830964\n"
     ]
    }
   ],
   "source": [
    "# Calculamos la dinámica más rápida del sistema original\n",
    "max_pole = np.max(np.abs(np.linalg.eigvals(A)))\n",
    "\n",
    "print(max_pole)\n",
    "# Calculamos los polos del observador de manera que sea 4 veces más rapido que el sistema\n",
    "# polos_observador = polos_sistema * 2 \n",
    "# print(polos_observador)\n",
    " \n",
    "\n",
    " # Para este caso, consideramos que el tiempo de muestreo es 0.001 s\n",
    "t_muestreo = 0.001\n",
    "\n",
    "print(\"En teoría, los polos del observador deberían ser mayores a \", 10*max_pole)\n",
    "\n",
    "# Se hace caso a la sugerencia de la catedra, y se eligen los siguientes polos \n",
    "# para el observador\n",
    "\n",
    "polos_observador = np.array([-330, -200, -220]) \n"
   ]
  },
  {
   "cell_type": "markdown",
   "metadata": {},
   "source": [
    "### Procedimiento para calcular la ganancia de realimentación\n",
    "\n",
    "Recordemos que la matriz que determina la dinamica a lazo cerrado es:\n",
    "\n",
    "$$ \n",
    " A_{cl} = A_{dual} - B_{dual} \\cdot K\n",
    "$$\n",
    " \n",
    "La ganancia K (valores de $k1$, $k2$, $k3$, $k4$) se calcula igualando los coeficientes del polinomio caracteristico del sistema en lazo cerrado con los coeficientes del polinomio deseado.\n",
    "\n",
    "$$\n",
    "det(sI - Acl) = det(sI - (A_{dual} - B_{dual} \\cdot K)) = 0\n",
    "$$\n",
    "\n",
    "El polinomio caracteristico deseado es:\n",
    "\n",
    "$$\n",
    "(s - p_1)(s - p_2)(s - p_3) = s^3 + a_2s^2 + a_1s + a_0 = 0\n",
    "$$\n",
    "\n",
    "donde $p_1$, $p_2$ y $p_3$ son los polos deseados del observador en terminos de $k1$, $k2$, $k3$, $k4$ (K).\n",
    "\n",
    "Los coeficientes $a_i$ se obtienen expandiendo el polinomio:\n",
    "\n",
    "$$\n",
    "a_2 = -(p_1 + p_2 + p_3)\n",
    "$$\n",
    "\n",
    "$$\n",
    "a_1 = p_1p_2 + p_1p_3 + p_2p_3\n",
    "$$\n",
    "\n",
    "$$\n",
    "a_0 = -p_1p_2p_3\n",
    "$$\n",
    "\n",
    "\n",
    "Todo esto se puede sintetizar con la siguiente función en python: "
   ]
  },
  {
   "cell_type": "code",
   "execution_count": 73,
   "metadata": {},
   "outputs": [
    {
     "name": "stdout",
     "output_type": "stream",
     "text": [
      "Ganancia K del sistema dual: [[-56058.4071205   41509.56888982    310.31584768]]\n"
     ]
    }
   ],
   "source": [
    "K = place_poles(A_dual, B_dual, polos_observador).gain_matrix\n",
    "\n",
    "print(f\"Ganancia K del sistema dual: {K}\")"
   ]
  },
  {
   "cell_type": "markdown",
   "metadata": {},
   "source": [
    "Debemos recordar que la ganancia K es la transpuesta de la ganancia L del observador, por lo que debemos tomar la transpuesta de la ganancia K para obtener la ganancia L."
   ]
  },
  {
   "cell_type": "code",
   "execution_count": 74,
   "metadata": {},
   "outputs": [
    {
     "name": "stdout",
     "output_type": "stream",
     "text": [
      "Ganancia L del observador: [[-56058.4071205 ]\n",
      " [ 41509.56888982]\n",
      " [   310.31584768]]\n"
     ]
    }
   ],
   "source": [
    "L = K.T\n",
    "print(f\"Ganancia L del observador: {L}\")"
   ]
  },
  {
   "cell_type": "markdown",
   "metadata": {},
   "source": [
    "Ahora verificamos que los polos del observador sean los deseados, recordando que la matriz que determina la dinamica del observador es:\n",
    "$$\n",
    "A_{observador} = A - L \\cdot C\n",
    "$$"
   ]
  },
  {
   "cell_type": "code",
   "execution_count": 78,
   "metadata": {},
   "outputs": [
    {
     "name": "stdout",
     "output_type": "stream",
     "text": [
      "Polos del observador obtenidos: [-330. -220. -200.]\n",
      "Tiempo estimado de convergencia del error: -0.0121 s\n"
     ]
    }
   ],
   "source": [
    "polos_observador_obtenidos = np.linalg.eigvals(A - L @ C)\n",
    "print(f\"Polos del observador obtenidos: {polos_observador_obtenidos}\")\n",
    "\n",
    "# El error debería converger a cero en :\n",
    "tiempo_convergencia_estimado = 4 / np.min(polos_observador_obtenidos)\n",
    "print(f\"Tiempo estimado de convergencia del error: {tiempo_convergencia_estimado:.4f} s\")\n",
    "\n"
   ]
  },
  {
   "cell_type": "markdown",
   "metadata": {},
   "source": [
    "## Implementación y comparación con las mediciones\n",
    "\n",
    "Se procerá a comparar los resultados medidos con los resultados observados."
   ]
  },
  {
   "cell_type": "code",
   "execution_count": 79,
   "metadata": {},
   "outputs": [],
   "source": [
    "# !pip install openpyxl\n",
    "\n",
    "# Carga del archivo .xlsx\n",
    "datos = pd.read_excel('./data/Curvas_Medidas_Motor_2025_v.xlsx')\n",
    "\n",
    "# Extraer columnas relevantes\n",
    "t_med = datos['Tiempo [Seg.]'].values        \n",
    "va_med = datos['Tensión [V]'].values      \n",
    "ia_med = datos['Corriente en armadura [A]'].values  \n",
    "wr_med = datos['Velocidad angular [rad /seg]'].values \n",
    "tl_med = datos['Torque'].values  \n"
   ]
  },
  {
   "cell_type": "markdown",
   "metadata": {},
   "source": [
    "Simulamos el modelo estimado (TP1)"
   ]
  },
  {
   "cell_type": "code",
   "execution_count": 80,
   "metadata": {},
   "outputs": [],
   "source": [
    "# Tiempo de muestreo\n",
    "dt = t_med[1] - t_med[0]\n",
    "\n",
    "# Inicialización de variables\n",
    "N = len(t_med)\n",
    "x = np.zeros((3, N))  # [ia, w, theta]\n",
    "\n",
    "# Simulación del modelo real\n",
    "for k in range(N - 1):\n",
    "    u_k = np.array([va_med[k], tl_med[k]])  # entrada en t_k\n",
    "    dx = A @ x[:, k] + B @ u_k\n",
    "    x[:, k+1] = x[:, k] + dt * dx\n"
   ]
  },
  {
   "cell_type": "markdown",
   "metadata": {},
   "source": [
    "Simulamos el observador:"
   ]
  },
  {
   "cell_type": "code",
   "execution_count": 84,
   "metadata": {},
   "outputs": [],
   "source": [
    "# Inicialización del observador\n",
    "x_hat = np.zeros((3, N))  # estimación de [ia, w, theta]\n",
    "error_obs = np.zeros((3, N))\n",
    "\n",
    "for k in range(N - 1):\n",
    "    u_k = np.array([va_med[k], tl_med[k]])\n",
    "    y_k = x[2, k]               # salida real (solo para simular el observador)\n",
    "    y_hat_k = C @ x_hat[:, k]   # salida estimada\n",
    "\n",
    "    # Observador de Luenberger\n",
    "    dx_hat = A @ x_hat[:, k] + B @ u_k + L @ (y_k - y_hat_k)\n",
    "    x_hat[:, k+1] = x_hat[:, k] + dt * dx_hat\n",
    "    error_obs[:, k] = x[:, k] - x_hat[:, k]\n"
   ]
  },
  {
   "cell_type": "markdown",
   "metadata": {},
   "source": []
  },
  {
   "cell_type": "code",
   "execution_count": 85,
   "metadata": {},
   "outputs": [
    {
     "data": {
      "image/png": "[encoded data removed]",
      "text/plain": [
       "<Figure size 640x480 with 1 Axes>"
      ]
     },
     "metadata": {},
     "output_type": "display_data"
    }
   ],
   "source": [
    "import matplotlib.pyplot as plt\n",
    "\n",
    "plt.figure()\n",
    "plt.plot(t_med, x[0], label='Corriente simulada')\n",
    "plt.plot(t_med, ia_med, label='Corriente medida', linestyle='--')\n",
    "plt.plot(t_med, x_hat[0], label='Corriente estimada (obs)', linestyle=':')\n",
    "plt.title(\"Comparación de corriente\")\n",
    "plt.xlabel(\"Tiempo [s]\")\n",
    "plt.ylabel(\"Corriente [A]\")\n",
    "plt.legend()\n",
    "plt.grid()"
   ]
  },
  {
   "cell_type": "markdown",
   "metadata": {},
   "source": [
    "# Simulación del sistema con Controlador + Observador\n"
   ]
  },
  {
   "cell_type": "code",
   "execution_count": 87,
   "metadata": {},
   "outputs": [],
   "source": [
    "t_final = 10\n",
    "dt = 0.001\n",
    "N = int(t_final / dt)\n",
    "\n",
    "# condiciones iniciales \n",
    "\n",
    "X = np.zeros((3, 1))       # Estado real del sistema: [ia, ω, θ]\n",
    "x_hat = np.zeros((3, 1))   # Estado estimado por el observador\n",
    "int_err = 0                    # Integrador del error\n",
    "TL_max = 0.12              # Torque máximo de perturbación\n",
    "\n",
    "\n",
    "e = np.zeros(N)            # Error entre referencia y salida real\n",
    "e_obs = np.zeros((3, N))   # Error entre estado real y estimado por el observador\n",
    "x1, x2, x3 = np.zeros(N), np.zeros(N), np.zeros(N)  # Estados reales\n",
    "acc = np.zeros(N)          # Entrada de control (tensión)\n",
    "TL_hist = np.zeros(N)      # Torque aplicado\n",
    "theta_ref_hist = np.zeros(N)  # Historial de referencia de posición"
   ]
  },
  {
   "cell_type": "code",
   "execution_count": 89,
   "metadata": {},
   "outputs": [
    {
     "name": "stderr",
     "output_type": "stream",
     "text": [
      "/tmp/ipykernel_7400/207010226.py:12: DeprecationWarning: Conversion of an array with ndim > 0 to a scalar is deprecated, and will error in future. Ensure you extract a single element from your array before performing this operation. (Deprecated NumPy 1.25.)\n",
      "  e[k] = theta_ref - y\n"
     ]
    },
    {
     "ename": "ValueError",
     "evalue": "matmul: Input operand 1 has a mismatch in its core dimension 0, with gufunc signature (n?,k),(k,m?)->(n?,m?) (size 4 is different from 1)",
     "output_type": "error",
     "traceback": [
      "\u001b[31m---------------------------------------------------------------------------\u001b[39m",
      "\u001b[31mValueError\u001b[39m                                Traceback (most recent call last)",
      "\u001b[36mCell\u001b[39m\u001b[36m \u001b[39m\u001b[32mIn[89]\u001b[39m\u001b[32m, line 13\u001b[39m\n\u001b[32m     11\u001b[39m \u001b[38;5;66;03m# --- Cálculo del error y acción de control ---\u001b[39;00m\n\u001b[32m     12\u001b[39m e[k] = theta_ref - y\n\u001b[32m---> \u001b[39m\u001b[32m13\u001b[39m u = -(\u001b[43mL\u001b[49m\u001b[43m \u001b[49m\u001b[43m@\u001b[49m\u001b[43m \u001b[49m\u001b[43mnp\u001b[49m\u001b[43m.\u001b[49m\u001b[43mvstack\u001b[49m\u001b[43m(\u001b[49m\u001b[43m[\u001b[49m\u001b[43mx_hat\u001b[49m\u001b[43m,\u001b[49m\u001b[43m \u001b[49m\u001b[43mint_err\u001b[49m\u001b[43m]\u001b[49m\u001b[43m)\u001b[49m\u001b[43m.\u001b[49m\u001b[43mflatten\u001b[49m\u001b[43m(\u001b[49m\u001b[43m)\u001b[49m)[\u001b[32m0\u001b[39m]\n\u001b[32m     14\u001b[39m acc[k] = u\n\u001b[32m     16\u001b[39m \u001b[38;5;66;03m# --- Simulación del sistema real con subpasos internos ---\u001b[39;00m\n",
      "\u001b[31mValueError\u001b[39m: matmul: Input operand 1 has a mismatch in its core dimension 0, with gufunc signature (n?,k),(k,m?)->(n?,m?) (size 4 is different from 1)"
     ]
    }
   ],
   "source": [
    "for k in range(N):\n",
    "    t_actual = k * dt\n",
    "\n",
    "    # --- Definición de referencia de posición y perturbación ---\n",
    "    theta_ref = np.pi / 2 if t_actual <= 5 else -np.pi / 2\n",
    "    TL_aplicado = TL_max if t_actual > 0.7 else 0\n",
    "\n",
    "    # --- Salida real del sistema (posición angular) ---\n",
    "    y = (C @ X)[0]\n",
    "\n",
    "    # --- Cálculo del error y acción de control ---\n",
    "    e[k] = theta_ref - y\n",
    "    u = -(L @ np.vstack([x_hat, int_err]).flatten())[0]\n",
    "    acc[k] = u\n",
    "\n",
    "    # --- Simulación del sistema real con subpasos internos ---\n",
    "    entrada = np.array([u, TL_aplicado])\n",
    "    X = sim_motor(dt, X, entrada)\n",
    "\n",
    "    # --- Observador de Luenberger ---\n",
    "    x_hat_dot = A @ x_hat + B * u + L @ (y - C @ x_hat)\n",
    "    x_hat += x_hat_dot * dt\n",
    "\n",
    "    # --- Integrador del error (para control integral) ---\n",
    "    int_err += e[k] * dt\n",
    "\n",
    "    # --- Registro de errores y estados ---\n",
    "    e_obs[:, k] = (X - x_hat).flatten()\n",
    "    x1[k], x2[k], x3[k] = X.flatten()\n",
    "    TL_hist[k] = TL_aplicado\n",
    "    theta_ref_hist[k] = theta_ref\n"
   ]
  },
  {
   "cell_type": "markdown",
   "metadata": {},
   "source": []
  }
 ],
 "metadata": {
  "kernelspec": {
   "display_name": "Python (global-env)",
   "language": "python",
   "name": "global-env"
  },
  "language_info": {
   "codemirror_mode": {
    "name": "ipython",
    "version": 3
   },
   "file_extension": ".py",
   "mimetype": "text/x-python",
   "name": "python",
   "nbconvert_exporter": "python",
   "pygments_lexer": "ipython3",
   "version": "3.12.3"
  }
 },
 "nbformat": 4,
 "nbformat_minor": 2
}
