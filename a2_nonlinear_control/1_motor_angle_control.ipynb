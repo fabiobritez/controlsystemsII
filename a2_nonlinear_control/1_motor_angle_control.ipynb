{
 "cells": [
  {
   "cell_type": "markdown",
   "metadata": {},
   "source": [
    "## Caso de estudio 1: Control del ángulo del motor en variables de estado\n",
    "\n",
    "Dadas las ecuaciones del motor de corriente continua con las mediciones experimentales detalladas en la Fig. 1, se sabe que las ecuaciones son:\n",
    "\n",
    "1. $$ \\frac{di_a}{dt} = -\\frac{R_A}{L_{AA}}i_a - \\frac{K_m}{L_{AA}}\\omega_r + \\frac{1}{L_{AA}}v_a $$\n",
    "2. $$ \\frac{d\\omega_r}{dt} = \\frac{K_i}{J}i_a - \\frac{B_m}{J}\\omega_r - \\frac{1}{J}T_L $$\n",
    "3. $$ \\frac{d\\theta_t}{dt} = \\omega_r $$\n",
    "\n",
    "---\n",
    "\n",
    "**Ítem [1]**  \n",
    "Empleando los parámetros hallados en el Trabajo Práctico Nº1 para el Motor CC, implementar un sistema en variables de estado que controle el ángulo del motor, para consignas de π/2 y –π/2 cambiando cada 5 segundos y que el \\( T_L \\) es el descripto en la planilla de datos, comparando el desempeño con el obtenido con el PID digital del TP Nº1. Hallar el valor de integración Euler adecuado.\n",
    "\n",
    "**Objetivo:** acelerar la dinámica del controlador verificando el resultado con las curvas del archivo `.xls` adjunto.\n",
    "\n",
    "- **a.** Evitando que la tensión supere los 5 Volts en valor absoluto, especificar el tiempo de muestreo necesario para que el controlador cumpla el objetivo.  \n",
    "- **b.** Asumiendo que no puede medirse directamente la corriente, **pero sí la velocidad y el ángulo**, proponer un controlador que logre el objetivo.  \n",
    "- **c.** Determinar el efecto de la no linealidad en la acción de control, descripta en la Fig. 2, y verificar cuál es el máximo valor admisible de esa no linealidad.\n",
    "\n",
    "![Caso 1 - imagen](extras/case1.png)\n"
   ]
  },
  {
   "cell_type": "markdown",
   "metadata": {},
   "source": []
  }
 ],
 "metadata": {
  "kernelspec": {
   "display_name": "Python (global)",
   "language": "python",
   "name": "global"
  },
  "language_info": {
   "name": "python",
   "version": "3.12.3"
  }
 },
 "nbformat": 4,
 "nbformat_minor": 2
}
