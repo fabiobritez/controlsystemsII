{
 "cells": [
  {
   "cell_type": "markdown",
   "metadata": {},
   "source": [
    "## Caso de estudio 1: Control del ángulo del motor en variables de estado\n",
    "\n",
    "Dadas las ecuaciones del motor de corriente continua con las mediciones experimentales detalladas en la Fig. 1, se sabe que las ecuaciones son:\n",
    "\n",
    "1. $$ \\frac{di_a}{dt} = -\\frac{R_A}{L_{AA}}i_a - \\frac{K_m}{L_{AA}}\\omega_r + \\frac{1}{L_{AA}}v_a $$\n",
    "2. $$ \\frac{d\\omega_r}{dt} = \\frac{K_i}{J}i_a - \\frac{B_m}{J}\\omega_r - \\frac{1}{J}T_L $$\n",
    "3. $$ \\frac{d\\theta_t}{dt} = \\omega_r $$\n",
    "\n",
    "---\n",
    "\n",
    "**Ítem [1]**  \n",
    "Empleando los parámetros hallados en el Trabajo Práctico Nº1 para el Motor CC, implementar un sistema en variables de estado que controle el ángulo del motor, para consignas de π/2 y –π/2 cambiando cada 5 segundos y que el $ T_L $ es el descripto en la planilla de datos, comparando el desempeño con el obtenido con el PID digital del TP Nº1. Hallar el valor de integración Euler adecuado.\n",
    "\n",
    "**Objetivo:** acelerar la dinámica del controlador verificando el resultado con las curvas del archivo `.xls` adjunto.\n",
    "\n",
    "- **a.** Evitando que la tensión supere los 5 Volts en valor absoluto, especificar el tiempo de muestreo necesario para que el controlador cumpla el objetivo.  \n",
    "- **b.** Asumiendo que no puede medirse directamente la corriente, **pero sí la velocidad y el ángulo**, proponer un controlador que logre el objetivo.  \n",
    "- **c.** Determinar el efecto de la no linealidad en la acción de control, descripta en la Fig. 2, y verificar cuál es el máximo valor admisible de esa no linealidad.\n",
    "\n",
    "![Caso 1 - imagen](extras/case1.png)\n"
   ]
  },
  {
   "cell_type": "code",
   "execution_count": 1,
   "metadata": {},
   "outputs": [],
   "source": [
    "import numpy as np\n",
    "import pandas as pd\n",
    "import matplotlib.pyplot as plt\n",
    "from scipy.signal import place_poles"
   ]
  },
  {
   "cell_type": "markdown",
   "metadata": {},
   "source": [
    " ### 1. Modelo del Motor CC\n",
    " La representación en espacio de estados es:\n",
    " $$\n",
    " \\dot{x} = A x + B u, \\quad y = C x\n",
    " $$\n",
    " donde:\n",
    " $$\n",
    " x = \\begin{bmatrix} i_a \\\\ \\omega_r \\\\ \\theta_r \\end{bmatrix}, \\quad\n",
    " u = \\begin{bmatrix} v_a \\\\ T_L \\end{bmatrix}, \\quad\n",
    " y = \\theta_r\n",
    " $$\n",
    " $$\n",
    " A = \\begin{bmatrix}\n",
    " -\\frac{R_A}{L_{AA}} & -\\frac{K_m}{L_{AA}} & 0 \\\\\n",
    " \\frac{K_i}{J} & -\\frac{B_m}{J} & 0 \\\\\n",
    " 0 & 1 & 0\n",
    " \\end{bmatrix}, \\quad\n",
    " B = \\begin{bmatrix}\n",
    " \\frac{1}{L_{AA}} & 0 \\\\\n",
    " 0 & -\\frac{1}{J} \\\\\n",
    " 0 & 0\n",
    " \\end{bmatrix}, \\quad\n",
    " C = \\begin{bmatrix} 0 & 0 & 1 \\end{bmatrix}\n",
    " $$"
   ]
  },
  {
   "cell_type": "code",
   "execution_count": 8,
   "metadata": {},
   "outputs": [],
   "source": [
    "# ------------------- Parámetros del Sistema -------------------\n",
    "# Parámetros del motor (identificados experimentalmente)\n",
    "Ra = 2.2781228953606902\n",
    "Laa = 0.005187184919244553\n",
    "Ki = 0.2618711775870197\n",
    "Jm = 0.002848787974411428\n",
    "Bm = 0.0014279727330389095\n",
    "Km = 0.2499435593696499\n",
    "\n",
    "\n",
    "# Parámetros del motor [originales]\n",
    "# Ra = 2.27        # Resistencia de armadura [Ohm]\n",
    "# Laa = 0.0047     # Inductancia de armadura [H]\n",
    "# Ki = 0.25        # Constante de torque [N⋅m/A]\n",
    "# Km = 0.25        # Constante de fuerza contraelectromotriz [V⋅s/rad]\n",
    "# Bm = 0.00131     # Coeficiente de fricción viscosa [N⋅m⋅s/rad]\n",
    "# Jm = 0.00233     # Momento de inercia [kg⋅m²]\n",
    "\n",
    "\n",
    "# Matrices del sistema en espacio de estados\n",
    "A = np.array([\n",
    "    [-Ra/Laa,   -Km/Laa,  0],\n",
    "    [Ki/Jm,     -Bm/Jm,   0],\n",
    "    [0,         1,        0]\n",
    "])\n",
    "B_va = np.array([[1/Laa], [0], [0]])\n",
    "B_torque = np.array([[0], [-1/Jm], [0]])\n",
    "B = np.hstack((B_va, B_torque))\n",
    "C = np.array([[0, 0, 1]])\n",
    "\n"
   ]
  },
  {
   "cell_type": "markdown",
   "metadata": {},
   "source": [
    "## Integrador para la realimentación de estados\n",
    "Para esto, antes agregamos el integrador (para que el error converja a cero)\n",
    "\n",
    "\n",
    "\n",
    "El sistema ampliado se convierte en:\n",
    "\n",
    "$$\n",
    "\\begin{bmatrix}\n",
    "\\dot{x}(t) \\\\\n",
    "\\dot{\\xi}(t)\n",
    "\\end{bmatrix}\n",
    "=\n",
    "\\begin{bmatrix}\n",
    "A & 0 \\\\\n",
    "-C & 0\n",
    "\\end{bmatrix}\n",
    "\\begin{bmatrix}\n",
    "x(t) \\\\\n",
    "\\xi(t)\n",
    "\\end{bmatrix}\n",
    "+\n",
    "\\begin{bmatrix}\n",
    "B \\\\\n",
    "0\n",
    "\\end{bmatrix}\n",
    "u(t)\n",
    "\n",
    "$$\n",
    "\n",
    "\n",
    "Donde:\n",
    "\n",
    "$$\n",
    "\n",
    "A_a = \\begin{bmatrix} A & 0 \\\\ -C & 0 \\end{bmatrix}, \\quad\n",
    "\n",
    "x_a = \\begin{bmatrix} x \\\\ \\xi \\end{bmatrix}\n",
    "\n",
    "B_a = \\begin{bmatrix} B \\\\ 0 \\end{bmatrix}, \\quad\n",
    "\n",
    "E_a = \\begin{bmatrix} 0 \\\\ 1 \\end{bmatrix}, \\quad\n",
    "$$\n"
   ]
  },
  {
   "cell_type": "code",
   "execution_count": null,
   "metadata": {},
   "outputs": [],
   "source": [
    "# Primero agregamos el integrador y hacemos la matriz aumentada\n",
    "A_aug = np.vstack((np.hstack((A, np.zeros((3,1)))), \n",
    "                   np.hstack((-C[0,:], 0)) ))\n",
    "\n",
    "B_aug = np.vstack((B_va, 0))\n",
    "C_aug = np.hstack((C, np.array([[0]])))"
   ]
  },
  {
   "cell_type": "markdown",
   "metadata": {},
   "source": [
    "# Construiremos el observador de Luenberger\n",
    "\n",
    "Tenemos 2 caminos para diseñar el observador:\n",
    "\n",
    "1. Transformamos la matriz en la forma canonica observable, luego despejar para calcular la ganancia Ko (L)\n",
    "2. Aprovechar el concepto de dualidad para hallar Ko(L)\n",
    "\n",
    "En este caso iremos por la segunda opción. Ya que nos permite transformar el problema de diseño del observador en un problema de control dual.\n",
    "\n",
    "Para el sistema original:\n",
    "$$\n",
    "\\begin{align}\n",
    "\\dot{x} &= Ax + Bu \\\\\n",
    "y &= Cx\n",
    "\\end{align}\n",
    "$$\n",
    "\n",
    "El sistema dual es:\n",
    "$$\n",
    "\\begin{align}\n",
    "\\dot{x} &= A^T x + C^T u \\\\\n",
    "y &= B^T x\n",
    "\\end{align}\n",
    "$$\n",
    "\n",
    "Donde:\n",
    " - $A_{dual} = A^T$ (transpuesta de $A$)\n",
    " - $B_{dual} = C^T$ (transpuesta de $C$)\n",
    " - $C_{dual} = B^T$ (transpuesta de $B$)\n",
    "\n",
    "La ventaja es que si el sistema original es observable, el sistema dual es controlable.\n",
    "Esto nos permite usar las técnicas de control (como ubicación de polos) para encontrar la ganancia del observador L (Ko)\n",
    "\n",
    "La ganancia del observador L será la transpuesta de la ganancia K del controlador del sistema dual:\n",
    "$L = K^T$\n"
   ]
  },
  {
   "cell_type": "code",
   "execution_count": 14,
   "metadata": {},
   "outputs": [
    {
     "name": "stdout",
     "output_type": "stream",
     "text": [
      "El sistema es observable\n",
      "Dimensiones:\n",
      "A_dual: (3, 3)\n",
      "B_dual: (3, 1)\n",
      "C_dual: (1, 3)\n"
     ]
    }
   ],
   "source": [
    "# Verificamos que el sistema original sea observable\n",
    "O = np.hstack((B, A@B, (A)**2 @B))\n",
    "rank_O = np.linalg.matrix_rank(O)\n",
    "\n",
    "# Si el rango es igual a la dimensión del sistema, el sistema es observable\n",
    "if rank_O == A.shape[0]:\n",
    "    print(\"El sistema es observable\")\n",
    "else:\n",
    "    print(\"El sistema no es observable\")\n",
    "\n",
    "\n",
    "\n",
    "# Sistema dual\n",
    "A_dual = A.T\n",
    "B_dual = C.T\n",
    "C_dual = B_va.T\n",
    "\n",
    "# Chequeo de dimensiones (no es necesario, lo dejo para debugging)\n",
    "print(\"Dimensiones:\")\n",
    "print(f\"A_dual: {A_dual.shape}\")\n",
    "print(f\"B_dual: {B_dual.shape}\")\n",
    "print(f\"C_dual: {C_dual.shape}\")\n",
    " \n"
   ]
  },
  {
   "cell_type": "markdown",
   "metadata": {},
   "source": [
    "Elegimos los polos del observador de manera que el sistema sea estable y que el error converja a cero en el tiempo deseado. Evitamos que el observador sea demasiado rapido, para que no se vuelva inestable.\n"
   ]
  },
  {
   "cell_type": "code",
   "execution_count": 24,
   "metadata": {},
   "outputs": [
    {
     "name": "stdout",
     "output_type": "stream",
     "text": [
      "428.84223830964004\n",
      "En teoría, los polos del observador deberían ser mayores a  4288.4223830964\n"
     ]
    }
   ],
   "source": [
    "# Calculamos la dinámica más rápida del sistema original\n",
    "max_pole = np.max(np.abs(np.linalg.eigvals(A)))\n",
    "\n",
    "print(max_pole)\n",
    "# Calculamos los polos del observador de manera que sea 4 veces más rapido que el sistema\n",
    "# polos_observador = polos_sistema * 2 \n",
    "# print(polos_observador)\n",
    " \n",
    "\n",
    " # Para este caso, consideramos que el tiempo de muestreo es 0.001 s\n",
    "t_muestreo = 0.001\n",
    "\n",
    "print(\"En teoría, los polos del observador deberían ser mayores a \", 10*max_pole)\n",
    "\n",
    "# Se hace caso a la sugerencia de la catedra, y se eligen los siguientes polos \n",
    "# para el observador\n",
    "\n",
    "polos_observador = np.array([-330, -200, -220]) \n",
    "\n"
   ]
  }
 ],
 "metadata": {
  "kernelspec": {
   "display_name": "Python (global)",
   "language": "python",
   "name": "global"
  },
  "language_info": {
   "codemirror_mode": {
    "name": "ipython",
    "version": 3
   },
   "file_extension": ".py",
   "mimetype": "text/x-python",
   "name": "python",
   "nbconvert_exporter": "python",
   "pygments_lexer": "ipython3",
   "version": "3.12.3"
  }
 },
 "nbformat": 4,
 "nbformat_minor": 2
}
