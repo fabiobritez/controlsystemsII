{
 "cells": [
  {
   "cell_type": "markdown",
   "metadata": {},
   "source": [
    "# Caso de estudio 3. Sistema no lineal de cuatro variables de estado\n",
    "\n",
    "![Figura 3. Sistema del péndulo.](ruta/a/la/imagen.png)\n",
    "\n",
    "Para el caso del esquema del péndulo invertido de la Fig. 3 donde el modelo es,\n",
    "\n",
    "$$\n",
    "\\begin{cases}\n",
    "(M + m)\\ddot{\\delta} + ml\\dot{\\phi}^2 \\cos \\phi - ml \\ddot{\\phi} \\sin \\phi + F \\delta = u \\\\\n",
    "\\ddot{\\phi} - g \\sin \\phi + \\ddot{\\delta} \\cos \\phi = 0\n",
    "\\end{cases}\n",
    "\\quad (4)\n",
    "$$\n",
    "\n",
    "Con las variables de estado \n",
    "\n",
    "$$\n",
    "x = \\begin{bmatrix}\n",
    "\\delta & \\dot{\\delta} & \\phi & \\dot{\\phi}\n",
    "\\end{bmatrix}^T,\n",
    "$$\n",
    "\n",
    "y los valores de los coeficientes de $m=0.1$; $F=0.1$; $l=1.6$; $g=9.8$; $M=1.5$.\n",
    "\n",
    "---\n",
    "\n",
    "**Ítem [3]** Calcular el sistema controlador que haga evolucionar al péndulo en el equilibrio estable.\n",
    "\n",
    "---\n",
    "\n",
    "**Objetivo de control:** partiendo de una condición inicial nula en el desplazamiento y el ángulo en $\\pi$, hacer que el carro se desplace a 10 metros evitando las oscilaciones de la masa $m$, considerando que es una grúa. Una vez que $\\delta=10$ modificar a *m* a un valor 10 veces mayor y volver al origen evitando oscilaciones.\n",
    "\n",
    "a- Considerar que sólo puede **medirse el desplazamiento $\\delta$ y el ángulo $\\phi$**.\n",
    "\n",
    "b- Determinar $\\Delta t$ y el tiempo de simulación necesario para el controlador en tiempo continuo.\n",
    "\n",
    "c- Especificar el rango posible para el tiempo de muestreo para implementar el sistema en un microcontrolador.\n",
    "\n",
    "d- Determinar el efecto de la no linealidad en la acción de control, descripta en la Fig. 1 (con dimensiones de fuerza en N), y verificar cuál es el máximo valor admisible de ésa no linealidad.\n"
   ]
  },
  {
   "cell_type": "code",
   "execution_count": 255,
   "metadata": {},
   "outputs": [],
   "source": [
    "import numpy as np\n",
    "import scipy as sp\n",
    "import scipy.signal\n",
    "from matplotlib import pyplot as plt\n",
    "from pylab import *\n",
    "from numpy.linalg import eig"
   ]
  },
  {
   "cell_type": "markdown",
   "metadata": {},
   "source": [
    "### Linealización del modelo del péndulo invertido\n",
    " \n",
    "Partimos de las ecuaciones no lineales:\n",
    "\n",
    "$$\n",
    "\\begin{cases}\n",
    "(M + m)\\ddot{\\delta} + m \\cdot \\text{long} \\cdot \\ddot{\\phi}\\cos(\\phi) - m \\cdot \\text{long} \\cdot \\dot{\\phi}^2\\sin(\\phi) + F\\dot{\\delta} = u \\\\\n",
    "\\text{long} \\cdot \\ddot{\\phi} - g \\sin(\\phi) + \\ddot{\\delta} \\cos(\\phi) = 0\n",
    "\\end{cases}\n",
    "$$\n",
    "\n",
    "Nuestro objetivo es obtener un modelo lineal de la forma:\n",
    "\n",
    "$$\n",
    "\\dot{x} = A x + B u, \\quad \\text{con } x = [\\delta, \\dot{\\delta}, \\phi, \\dot{\\phi}]^T\n",
    "$$\n",
    "\n",
    "Donde los parametros son:\n",
    "- M: masa del carro (kg)\n",
    "- m: masa del péndulo (kg)\n",
    "- long: longitud del péndulo (m)\n",
    "- F: coeficiente de fricción del carro (N·s/m)\n",
    "- g: aceleración de la gravedad (m/s²)\n",
    "- u: fuerza de control aplicada al carro (N)\n",
    "\n",
    "\n",
    "\n",
    "#### Punto de equilibrio\n",
    "\n",
    "El equilibrio se alcanza cuando:\n",
    "\n",
    "$$\n",
    "\\delta = 0, \\quad \\dot{\\delta} = 0, \\quad \\phi = \\pi, \\quad \\dot{\\phi} = 0\n",
    "$$\n",
    "\n",
    "Definimos el ángulo relativo al equilibrio (cambio de variable):\n",
    "\n",
    "$$\n",
    "\\tilde{\\phi} = \\phi - \\pi\n",
    "$$\n",
    "\n",
    "Usamos desarrollos de Taylor de primer orden:\n",
    "\n",
    "- $\\cos(\\phi) = \\cos(\\tilde{\\phi}+\\pi) \\approx -1$\n",
    "- $\\sin(\\phi) = \\sin(\\tilde{\\phi}+\\pi) \\approx -\\tilde{\\phi}$\n",
    "\n",
    "\n",
    "\n",
    "Dado que $\\dot{\\phi} \\approx 0$ cuando está alrededor del equilibrio estable, consideramos:\n",
    "\n",
    "\n",
    "$$\\dot{\\phi}^2 \\cdot \\sin(\\phi) \\approx 0 $$\n",
    "---\n",
    "\n",
    "#### Reescribimos las ecuaciones\n",
    "\n",
    "\n",
    "\n",
    "\n",
    "\\begin{aligned}\n",
    "(M + m)\\ddot{\\delta} - m l \\ddot{\\phi} + F \\dot{\\delta} &= u  \\quad \\text{(1')} \\\\\n",
    "l \\ddot{\\phi} + g \\tilde{\\phi} - \\ddot{\\delta} &= 0 \\quad \\text{(2')}\n",
    "\\end{aligned}\n",
    "\n",
    "\n",
    "\n",
    " \n",
    "\n",
    "---\n",
    "\n",
    "#### Hacmoes sustitución entre ecuaciones\n",
    "De la segunda ecuación:\n",
    "\n",
    "$$\n",
    "\\ddot{\\phi} = \\frac{\\ddot{\\delta} - g \\tilde{\\phi}}{l}\n",
    "$$\n",
    "\n",
    "Sustituyendo en la primera:\n",
    "\n",
    "$$\n",
    "(M + m)\\ddot{\\delta} - m\\left(\\ddot{\\delta} - g \\tilde{\\phi}\\right) + F \\dot{\\delta} = u\n",
    "$$\n",
    "\n",
    "$$\n",
    "M \\ddot{\\delta} + m g \\tilde{\\phi} + F \\dot{\\delta} = u\n",
    "$$\n",
    "\n",
    "Despejando:\n",
    "\n",
    "$$\n",
    "\\boxed{\\ddot{\\delta} = \\frac{1}{M} \\left( u - m g \\tilde{\\phi} - F \\dot{\\delta} \\right)}\n",
    "$$\n",
    "\n",
    "Y sustituyendo de nuevo en la primera ecuación para obtener $\\ddot{\\phi}$:\n",
    "\n",
    "$$\n",
    "\\boxed{\\ddot{\\phi} = \\frac{1}{lM} u - \\frac{F}{lM} \\dot{\\delta} - \\frac{g(M + m)}{lM} \\tilde{\\phi}}\n",
    "$$\n",
    "---\n",
    "Asumiendo $\\tilde{\\phi} \\approx \\phi$ (mismo símbolo para simplificar), el sistema es:\n",
    "\n",
    "\n",
    "\\begin{aligned}\n",
    "\\dot{x}_1 &= x_2 \\\\\n",
    "\\dot{x}_2 &= -\\frac{F}{M} x_2 - \\frac{m g}{M} x_3 + \\frac{1}{M} u \\\\\n",
    "\\dot{x}_3 &= x_4 \\\\\n",
    "\\dot{x}_4 &= -\\frac{F}{l M} x_2 - \\frac{g (M + m)}{l M} x_3 + \\frac{1}{l M} u\n",
    "\\end{aligned}\n",
    "\n",
    "\n",
    "---\n",
    "\n",
    "### Forma matricial: $\\dot{x} = A x + B u$\n",
    "\n",
    "**Matriz $A$:**\n",
    "\n",
    "$$\n",
    "A = \\begin{bmatrix}\n",
    "0 & 1 & 0 & 0 \\\\\n",
    "0 & -\\frac{F}{M} & -\\frac{m g}{M} & 0 \\\\\n",
    "0 & 0 & 0 & 1 \\\\\n",
    "0 & -\\frac{F}{l M} & -\\frac{g (M + m)}{l M} & 0\n",
    "\\end{bmatrix}\n",
    "$$\n",
    "\n",
    "**Matriz $B$:**\n",
    "\n",
    "$$\n",
    "B = \\begin{bmatrix}\n",
    "0 \\\\\n",
    "\\frac{1}{M} \\\\\n",
    "0 \\\\\n",
    "\\frac{1}{l M}\n",
    "\\end{bmatrix}\n",
    "$$\n",
    "---\n"
   ]
  },
  {
   "cell_type": "code",
   "execution_count": 256,
   "metadata": {},
   "outputs": [],
   "source": [
    "# Parámetros del sistema\n",
    "m = 0.1     # masa del péndulo [kg]\n",
    "M = 1.5     # masa del carro [kg]\n",
    "long = 1.6  # longitud del péndulo [m]\n",
    "g = 9.8     # gravedad [m/s^2]\n",
    "F = 0.1     # coeficiente de fricción del carro [N·s/m]"
   ]
  },
  {
   "cell_type": "code",
   "execution_count": 257,
   "metadata": {},
   "outputs": [],
   "source": [
    "A = np.array([\n",
    "    [0.,                     1.,                  0.,                            0.],\n",
    "    [0.,                -F / M,         -m * g / M,                            0.],\n",
    "    [0.,                     0.,                  0.,                            1.],\n",
    "    [0.,       -F / (long * M),  -g * (M + m) / (long * M),                    0.]\n",
    "])\n",
    " \n",
    "B = np.array([\n",
    "    [0.],\n",
    "    [1. / M],\n",
    "    [0.],\n",
    "    [1. / (long * M)]\n",
    "])\n",
    "\n",
    "\n",
    "# C para el integrador\n",
    "C = np.array([[1., 0., 0., 0.]])\n",
    "\n",
    "# C_obs para las mediciones que recibe el obs. salidas medidas (posición del carro y ángulo del péndulo)\n",
    "C_obs = np.array([\n",
    "    [1., 0., 0., 0.],   # mide delta (posición del carro)\n",
    "    [0., 0., 1., 0.]    # mide phi (ángulo del péndulo)\n",
    "])\n",
    "\n",
    "\n"
   ]
  },
  {
   "cell_type": "markdown",
   "metadata": {},
   "source": [
    "## Matriz ampliada para el sistema con integrador\n",
    "\n",
    " \n",
    "\n",
    "El sistema original de 4 estados se amplía con un integrador del error de posición. Las matrices extendidas son:\n",
    "\n",
    "$$\n",
    "A_{\\text{aug}} = \\begin{bmatrix}\n",
    "A & 0 \\\\\n",
    "-C & 0\n",
    "\\end{bmatrix}, \\quad\n",
    "B_{\\text{aug}} = \\begin{bmatrix}\n",
    "B \\\\\n",
    "0\n",
    "\\end{bmatrix}\n",
    "$$\n",
    "\n",
    "donde $ C $ selecciona el estado a integrar (este caso, la posición)."
   ]
  },
  {
   "cell_type": "code",
   "execution_count": 258,
   "metadata": {},
   "outputs": [],
   "source": [
    "# Ampliar matrices para el sistema con integrador\n",
    "A_aug = np.block([\n",
    "    [A, np.zeros((4, 1))],\n",
    "    [-C, np.zeros((1, 1))]\n",
    "])\n",
    "\n",
    "B_aug = np.vstack((B, [[0]]))"
   ]
  },
  {
   "cell_type": "markdown",
   "metadata": {},
   "source": [
    "## Diseño del controlador LQR"
   ]
  },
  {
   "cell_type": "markdown",
   "metadata": {},
   "source": [
    "Queremos encontrar la **matriz de ganancia**:\n",
    "\n",
    "$$\n",
    "u(t) = -Kx(t) - K_i z(t)\n",
    "$$\n",
    "\n",
    "donde $ x(t) $ es el estado del sistema, y $ z(t) $ es un estado integrador del error (por ejemplo, error de posición).\n",
    "\n",
    "\n",
    "### Ecuación de Riccati\n",
    "\n",
    "La solución tradicional al problema LQR se basa en encontrar una matriz simétrica positiva definida $ P $ que resuelva la ecuación algebraica de Riccati:\n",
    "\n",
    "$$\n",
    "A^T P + P A - P B R^{-1} B^T P + Q = 0\n",
    "$$\n",
    "\n",
    "Una vez hallada $ P$, la ganancia del controlador es:\n",
    "\n",
    "$$\n",
    "K = R^{-1} B^T P\n",
    "$$"
   ]
  },
  {
   "cell_type": "code",
   "execution_count": 259,
   "metadata": {},
   "outputs": [],
   "source": [
    "from scipy.linalg import solve_continuous_are\n",
    "\n",
    "# Pesos del LQR\n",
    "Q = np.diag([100, 1, 500, 10, 1000])  # peso alto para φ y para el integrador\n",
    "R = np.array([[0.1]])\n",
    "\n",
    "# Resolver la ecuación de Riccati\n",
    "P = solve_continuous_are(A_aug, B_aug, Q, R)\n",
    "\n",
    "# Ganancia LQR\n",
    "K_aug = np.linalg.inv(R) @ B_aug.T @ P\n",
    "\n",
    "K = K_aug[:, :4]  # realimentación de estados\n",
    "Ki = K_aug[:, 4]  # ganancia del integrador\n"
   ]
  },
  {
   "cell_type": "markdown",
   "metadata": {},
   "source": [
    "### Cálculo de la Ganancia LQR mediante el Hamiltoniano"
   ]
  },
  {
   "cell_type": "markdown",
   "metadata": {},
   "source": [
    "El **Hamiltoniano** del sistema ampliado es una matriz de dimensión $ 2n \\times 2n $, donde $ n $ es el número de estados extendidos.\n",
    "\n",
    "$$\n",
    "H =\n",
    "\\begin{bmatrix}\n",
    "A_{\\text{aug}} & -B_{\\text{aug}} R^{-1} B_{\\text{aug}}^T \\\\\n",
    "-Q & -A_{\\text{aug}}^T\n",
    "\\end{bmatrix}\n",
    "$$"
   ]
  },
  {
   "cell_type": "code",
   "execution_count": 260,
   "metadata": {},
   "outputs": [],
   "source": [
    "\n",
    "# Construcción del Hamiltoniano para el cálculo del controlador\n",
    "\n",
    "# Hamiltoniano H = [A -BR^-1B^T ; -Q -A^T]\n",
    "H_top = np.block([\n",
    "    [A_aug, -B_aug @ inv(R) @ B_aug.T]\n",
    "])\n",
    "H_bottom = np.block([\n",
    "    [-Q, -A_aug.T]\n",
    "])\n",
    "H = np.block([\n",
    "    [H_top],\n",
    "    [H_bottom]\n",
    "])\n"
   ]
  },
  {
   "cell_type": "markdown",
   "metadata": {},
   "source": [
    "### Cálculo de autovalores y autovectores\n",
    "\n",
    "Se hallan los **autovalores y autovectores** de \\( H \\), y se seleccionan únicamente aquellos cuya **parte real es negativa**, para asegurar estabilidad:\n",
    "\n",
    "Luego se separan en dos bloques verticales:\n",
    "\n",
    "$$\n",
    "V = \n",
    "\\begin{bmatrix}\n",
    "X_1 \\\\\n",
    "X_2\n",
    "\\end{bmatrix}\n",
    "\\quad \\text{con} \\quad X_1, X_2 \\in \\mathbb{C}^{n \\times n}\n",
    "$$"
   ]
  },
  {
   "cell_type": "code",
   "execution_count": 261,
   "metadata": {},
   "outputs": [],
   "source": [
    "\n",
    "# Eigenvalores y vectores propios\n",
    "D, V = eig(H)\n",
    "\n",
    "# Seleccionar autovectores con parte real negativa\n",
    "n = A_aug.shape[0]\n",
    "MX1X2 = np.zeros((2 * n, n), dtype=complex)\n",
    "jj = 0\n",
    "for ii in range(2 * n):\n",
    "    if np.real(D[ii]) < 0:\n",
    "        MX1X2[:, jj] = V[:, ii]\n",
    "        jj += 1\n",
    "        if jj >= n:\n",
    "            break\n",
    "\n",
    "# Separar bloques\n",
    "MX1 = MX1X2[:n, :]\n",
    "MX2 = MX1X2[n:, :]\n",
    "\n"
   ]
  },
  {
   "cell_type": "markdown",
   "metadata": {},
   "source": [
    "### Cálculo de la matriz $P$\n",
    "\n",
    "Usamos la relación:\n",
    "\n",
    "$$\n",
    "P = \\Re\\left\\{ X_2 X_1^{-1} \\right\\}\n",
    "$$\n",
    "\n",
    "Esto nos da la solución $ P $ de la ecuación de Riccati."
   ]
  },
  {
   "cell_type": "code",
   "execution_count": 262,
   "metadata": {},
   "outputs": [],
   "source": [
    "# Calcular P\n",
    "P_ham = np.real(MX2 @ inv(MX1))\n",
    "\n"
   ]
  },
  {
   "cell_type": "markdown",
   "metadata": {},
   "source": [
    "### Cálculo de la ganancia LQR\n",
    "\n",
    "Finalmente, la **ganancia óptima** del controlador se obtiene como:\n",
    "\n",
    "$$\n",
    "K_{\\text{aug}} = R^{-1} B_{\\text{aug}}^T P\n",
    "$$\n",
    "\n",
    "Esta matriz se puede dividir en dos partes:\n",
    "\n",
    "- $ K $: la realimentación de los estados del sistema original.\n",
    "- $ K_i $: la ganancia del integrador.\n",
    "\n",
    "$$\n",
    "K = K_{\\text{aug}}[:, 0:4], \\quad K_i = K_{\\text{aug}}[:, 4]\n",
    "$$"
   ]
  },
  {
   "cell_type": "code",
   "execution_count": 263,
   "metadata": {},
   "outputs": [
    {
     "data": {
      "text/plain": [
       "(array([[ 91.60226558,  36.8548753 ,  26.00612686, -28.24155097]]),\n",
       " array([-100.]))"
      ]
     },
     "execution_count": 263,
     "metadata": {},
     "output_type": "execute_result"
    }
   ],
   "source": [
    "# Ganancia LQR desde el Hamiltoniano\n",
    "K_aug_ham = inv(R) @ B_aug.T @ P_ham\n",
    "K_ham = K_aug_ham[:, :4]\n",
    "Ki_ham = K_aug_ham[:, 4]\n",
    "\n",
    "K_ham, Ki_ham"
   ]
  },
  {
   "cell_type": "code",
   "execution_count": 264,
   "metadata": {},
   "outputs": [
    {
     "name": "stdout",
     "output_type": "stream",
     "text": [
      "DEBERIAN DAR LO MISMO\n",
      "Ganancias con la libreria\n",
      "K = [[ 91.60226558  36.8548753   26.00612686 -28.24155097]]\n",
      "Ki = [-100.]\n",
      "\n",
      "Ganancias con el método Hamiltoniano:\n",
      "K_ham = [[ 91.60226558  36.8548753   26.00612686 -28.24155097]]\n",
      "Ki_ham = [-100.]\n",
      "\n",
      "Diferencias:\n",
      "||K - K_ham|| = 1.9998591042993866e-12\n",
      "||Ki - Ki_ham|| = 1.5347723092418164e-12\n"
     ]
    }
   ],
   "source": [
    "# Comparamos los resultados de los dos métodos de cálculo de ganancias\n",
    "\n",
    "print(\"DEBERIAN DAR LO MISMO\")\n",
    "print(\"Ganancias con la libreria\")\n",
    "print(f\"K = {K}\")\n",
    "print(f\"Ki = {Ki}\")\n",
    "print(\"\\nGanancias con el método Hamiltoniano:\")\n",
    "print(f\"K_ham = {K_ham}\")\n",
    "print(f\"Ki_ham = {Ki_ham}\")\n",
    "\n",
    "# Calculamos la diferencia entre ambos métodos\n",
    "K_diff = np.linalg.norm(K - K_ham)\n",
    "Ki_diff = np.linalg.norm(Ki - Ki_ham)\n",
    "\n",
    "print(\"\\nDiferencias:\")\n",
    "print(f\"||K - K_ham|| = {K_diff}\")\n",
    "print(f\"||Ki - Ki_ham|| = {Ki_diff}\")\n",
    "\n"
   ]
  },
  {
   "cell_type": "markdown",
   "metadata": {},
   "source": [
    "## Observador"
   ]
  },
  {
   "cell_type": "code",
   "execution_count": 265,
   "metadata": {},
   "outputs": [],
   "source": [
    " \n",
    "# Elegimos polos del observador más rápidos que los del sistema\n",
    "# (por ejemplo, 5-10x más rápidos que los del sistema)\n",
    "from scipy.signal import place_poles\n",
    "\n",
    "# Elegir polos deseados del observador\n",
    "observer_poles = [-10, -11, -12, -13]\n",
    "\n",
    "# Calcular ganancia del observador (sólo para los 4 estados, no el integrador)\n",
    "L = place_poles(A.T, C_obs.T, observer_poles).gain_matrix.T\n"
   ]
  },
  {
   "cell_type": "markdown",
   "metadata": {},
   "source": [
    "## Simulacion\n"
   ]
  },
  {
   "cell_type": "code",
   "execution_count": 266,
   "metadata": {},
   "outputs": [],
   "source": [
    "# Referencia\n",
    "delta_ref_1 = 10\n",
    "delta_ref_2 = 0\n",
    "\n",
    "# Tiempo de simulación\n",
    "dt = 0.001\n",
    "T_total = 20\n",
    "steps = int(T_total / dt)\n",
    "\n",
    "# Estados iniciales\n",
    "x = np.zeros(4)\n",
    "\n",
    "X_op = np.zeros(4);\n",
    "X_op [2] = np.pi\n",
    "x_hat = np.zeros(4)\n",
    "z = 0\n",
    "\n",
    "# para graficar\n",
    "u = 0.0\n",
    "time = []\n",
    "delta = []\n",
    "phi = []\n",
    "u_values = []\n",
    "delta_ref_traj = []"
   ]
  },
  {
   "cell_type": "code",
   "execution_count": 267,
   "metadata": {},
   "outputs": [],
   "source": [
    "# Simulación\n",
    "for i in range(steps):\n",
    "    t = i * dt\n",
    "    # Cambio de referencia y masa\n",
    "    if t < 10:\n",
    "        delta_ref = delta_ref_1 \n",
    "    else:\n",
    "        delta_ref = delta_ref_2\n",
    "        A = np.array([\n",
    "            [0.,                     1.,                  0.,                            0.],\n",
    "            [0.,                -F / M,       -m*10* g / M,                            0.],\n",
    "            [0.,                     0.,                  0.,                            1.],\n",
    "            [0.,       -F / (long * M),  -g * (M + m*10) / (long * M),                 0.]\n",
    "        ])\n",
    "        \n",
    "\n",
    "    # Salida medida\n",
    "    y = C_obs @ x\n",
    "\n",
    "    # Observador (modelo con m actual)\n",
    "    x_hat_dot = A @ (x_hat - X_op) + B.flatten() * u - L @ (C_obs @ x_hat - y) \n",
    "    x_hat += x_hat_dot * dt\n",
    "\n",
    "    # Integrador del error\n",
    "    z_dot = delta_ref - y[0]\n",
    "    z += z_dot * dt\n",
    "\n",
    "    # Control\n",
    "    u = -K @ (x_hat-X_op) - Ki * z\n",
    "\n",
    "    # Simulación del sistema real (con m real en cada tramo)\n",
    "    x_dot = A @ (x-X_op) + B.flatten() * u\n",
    "    x += x_dot * dt\n",
    "\n",
    "    # Guardar\n",
    "    time.append(t)\n",
    "    delta.append(x[0])\n",
    "    phi.append(x[2])\n",
    "    u_values.append(u.item())\n",
    "    delta_ref_traj.append(delta_ref)"
   ]
  },
  {
   "cell_type": "markdown",
   "metadata": {},
   "source": [
    "## Graficar"
   ]
  },
  {
   "cell_type": "code",
   "execution_count": 268,
   "metadata": {},
   "outputs": [
    {
     "data": {
      "image/png": "[encoded data removed]",
      "text/plain": [
       "<Figure size 640x480 with 1 Axes>"
      ]
     },
     "metadata": {},
     "output_type": "display_data"
    },
    {
     "data": {
      "image/png": "[encoded data removed]",
      "text/plain": [
       "<Figure size 640x480 with 1 Axes>"
      ]
     },
     "metadata": {},
     "output_type": "display_data"
    },
    {
     "data": {
      "image/png": "[encoded data removed]",
      "text/plain": [
       "<Figure size 640x480 with 1 Axes>"
      ]
     },
     "metadata": {},
     "output_type": "display_data"
    }
   ],
   "source": [
    "# Graficar resultados\n",
    "plt.figure()\n",
    "plt.plot(time, delta, label='delta (posición)')\n",
    "plt.plot(time, delta_ref_traj, '--', label='delta ref')\n",
    "plt.xlabel('Tiempo (s)')\n",
    "plt.ylabel('Posición (m)')\n",
    "plt.title('Seguimiento de referencia')\n",
    "plt.legend()\n",
    "plt.grid()\n",
    "\n",
    "plt.figure()\n",
    "plt.plot(time, phi, label='phi (ángulo del péndulo)')\n",
    "plt.xlabel('Tiempo (s)')\n",
    "plt.ylabel('Ángulo (rad)')\n",
    "plt.title('Oscilación del péndulo')\n",
    "plt.legend()\n",
    "plt.grid()\n",
    "\n",
    "plt.figure()\n",
    "plt.plot(time, u_values, label='u (fuerza)')\n",
    "plt.xlabel('Tiempo (s)')\n",
    "plt.ylabel('Fuerza (N)')\n",
    "plt.title('Esfuerzo de control')\n",
    "plt.legend()\n",
    "plt.grid()\n",
    "\n",
    "plt.show()"
   ]
  }
 ],
 "metadata": {
  "kernelspec": {
   "display_name": "Python 3",
   "language": "python",
   "name": "python3"
  },
  "language_info": {
   "codemirror_mode": {
    "name": "ipython",
    "version": 3
   },
   "file_extension": ".py",
   "mimetype": "text/x-python",
   "name": "python",
   "nbconvert_exporter": "python",
   "pygments_lexer": "ipython3",
   "version": "3.12.3"
  }
 },
 "nbformat": 4,
 "nbformat_minor": 2
}
